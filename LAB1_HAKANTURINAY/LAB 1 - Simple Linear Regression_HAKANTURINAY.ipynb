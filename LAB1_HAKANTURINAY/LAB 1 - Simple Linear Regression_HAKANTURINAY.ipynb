{
 "cells": [
  {
   "cell_type": "code",
   "execution_count": 14,
   "metadata": {},
   "outputs": [],
   "source": [
    "from numpy import genfromtxt\n",
    "import matplotlib.pyplot as plt \n",
    "import chardet\n",
    "import numpy as np"
   ]
  },
  {
   "cell_type": "code",
   "execution_count": 23,
   "metadata": {},
   "outputs": [],
   "source": [
    "def simlin_coef(x, y): \n",
    "    n = np.size(x)  \n",
    "    m_x = np.mean(x)\n",
    "    m_y = np.mean(y)\n",
    "    AA_xy = np.sum(y*x)-n*m_y*m_x \n",
    "    AA_xx = np.sum(x*x)-n*m_x*m_x \n",
    "    b_1 = AA_xy / AA_xx \n",
    "    b_0 = m_y - b_1*m_x \n",
    "    return(b_0, b_1) "
   ]
  },
  {
   "cell_type": "code",
   "execution_count": 30,
   "metadata": {},
   "outputs": [],
   "source": [
    "def simlin_plot(x, y, b): \n",
    "    plt.scatter(x, y, color = \"b\", s = 30) \n",
    "    y_pred = b[0] + b[1]*x \n",
    "    plt.plot(x, y_pred, color = \"r\") \n",
    "    plt.xlabel('Experience') \n",
    "    plt.ylabel('Salary') \n",
    "    plt.show() "
   ]
  },
  {
   "cell_type": "code",
   "execution_count": 31,
   "metadata": {},
   "outputs": [],
   "source": [
    "def main(): \n",
    "    #READ THE DATA SET\n",
    "    with open('team_big.csv', 'rb') as f:\n",
    "        dataset = chardet.detect(f.read())\n",
    "    dataset = genfromtxt('team_big.csv', dtype=None, delimiter=',', names=True, encoding=dataset['encoding'])\n",
    "    #I added encoding because it gave to me encoding error\n",
    "    x = dataset['Experience']\n",
    "    y = dataset['Salary'] \n",
    "    b = simlin_coef(x, y) \n",
    "    simlin_plot(x, y, b) "
   ]
  },
  {
   "cell_type": "code",
   "execution_count": 32,
   "metadata": {},
   "outputs": [
    {
     "data": {
      "image/png": "[encoded data removed]",
      "text/plain": [
       "<Figure size 432x288 with 1 Axes>"
      ]
     },
     "metadata": {
      "needs_background": "light"
     },
     "output_type": "display_data"
    }
   ],
   "source": [
    "if __name__ == \"__main__\": \n",
    "    main() "
   ]
  },
  {
   "cell_type": "code",
   "execution_count": null,
   "metadata": {},
   "outputs": [],
   "source": []
  },
  {
   "cell_type": "code",
   "execution_count": null,
   "metadata": {},
   "outputs": [],
   "source": []
  }
 ],
 "metadata": {
  "kernelspec": {
   "display_name": "Python 3",
   "language": "python",
   "name": "python3"
  },
  "language_info": {
   "codemirror_mode": {
    "name": "ipython",
    "version": 3
   },
   "file_extension": ".py",
   "mimetype": "text/x-python",
   "name": "python",
   "nbconvert_exporter": "python",
   "pygments_lexer": "ipython3",
   "version": "3.7.6"
  }
 },
 "nbformat": 4,
 "nbformat_minor": 4
}
