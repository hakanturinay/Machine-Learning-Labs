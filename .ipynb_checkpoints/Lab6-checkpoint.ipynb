{
 "cells": [
  {
   "cell_type": "code",
   "execution_count": 90,
   "metadata": {},
   "outputs": [],
   "source": [
    "from sklearn.metrics import mean_squared_error, r2_score\n",
    "from sklearn.linear_model import LinearRegression\n",
    "import pandas as pd\n",
    "import numpy as np\n",
    "import csv\n",
    "with open('team_big.csv', encoding=\"utf8\", errors='ignore') as f:\n",
    "    df = list(csv.reader(f))\n"
   ]
  },
  {
   "cell_type": "code",
   "execution_count": 107,
   "metadata": {},
   "outputs": [],
   "source": [
    "# X = df.drop(\"Salary\", axis = 1)\n",
    "# y = df[\"Salary\"]\n",
    "# X_train, X_test, y_train, y_test = train_test_split(X, y, test_size=0.20)\n",
    "# y_train\n",
    "age_list = np.array([])\n",
    "exp_list = np.array([])\n",
    "pow_list = np.array([])\n",
    "salary_list = np.array([])\n",
    "for row in df:\n",
    "    if row != df[0]:\n",
    "        age_list = np.append(age_list, int(row[4]))\n",
    "        exp_list = np.append(exp_list, int(row[6]))\n",
    "        pow_list = np.append(pow_list, float(row[7]))\n",
    "        salary_list = np.append(salary_list, int(row[8])) \n",
    "ones = np.ones((len(age_list)))\n",
    "X = np.column_stack((ones, age_list, exp_list, pow_list))\n",
    "y = salary_list\n",
    "coefficients = np.dot(X.T, X)\n",
    "coefficients = np.linalg.inv(coefficients)\n",
    "coefficients = np.dot(coefficients, X.T)\n",
    "coefficients = np.dot(coefficients, y)\n",
    "y_hat = np.dot(X,coefficients)"
   ]
  },
  {
   "cell_type": "code",
   "execution_count": 108,
   "metadata": {},
   "outputs": [],
   "source": [
    "def simlin_r2(y, y_pred):\n",
    "\n",
    "    rss, tss = 0, 0\n",
    "\n",
    "    for i in range(len(y)):\n",
    "        rss += (y[i]-y_pred[i])**2\n",
    "        tss += (y[i]-np.mean(y))**2\n",
    "\n",
    "    r_squared = 1 - rss/tss\n",
    "\n",
    "    print(\"R^2 score: \" + str(r_squared))"
   ]
  },
  {
   "cell_type": "code",
   "execution_count": 109,
   "metadata": {},
   "outputs": [
    {
     "name": "stdout",
     "output_type": "stream",
     "text": [
      "R^2 score: 0.8437150192822189\n"
     ]
    }
   ],
   "source": [
    "simlin_r2(y,y_hat)"
   ]
  },
  {
   "cell_type": "code",
   "execution_count": 110,
   "metadata": {},
   "outputs": [],
   "source": [
    "def adjusted_r_squared(X,y):\n",
    "    n = len(y)\n",
    "    d = X.shape[1]\n",
    "    adj_r = 1-(1-simlin_r2(y,y_hat))*((n-1)/(n-d-1))\n",
    "\n",
    "    return adj_r"
   ]
  },
  {
   "cell_type": "code",
   "execution_count": 111,
   "metadata": {},
   "outputs": [
    {
     "ename": "SyntaxError",
     "evalue": "invalid syntax (<ipython-input-111-65d123a0d1aa>, line 1)",
     "output_type": "error",
     "traceback": [
      "\u001b[0;36m  File \u001b[0;32m\"<ipython-input-111-65d123a0d1aa>\"\u001b[0;36m, line \u001b[0;32m1\u001b[0m\n\u001b[0;31m    adjusted_r_squared(X[])\u001b[0m\n\u001b[0m                         ^\u001b[0m\n\u001b[0;31mSyntaxError\u001b[0m\u001b[0;31m:\u001b[0m invalid syntax\n"
     ]
    }
   ],
   "source": []
  },
  {
   "cell_type": "code",
   "execution_count": 114,
   "metadata": {},
   "outputs": [
    {
     "ename": "IndexError",
     "evalue": "tuple index out of range",
     "output_type": "error",
     "traceback": [
      "\u001b[0;31m---------------------------------------------------------------------------\u001b[0m",
      "\u001b[0;31mIndexError\u001b[0m                                Traceback (most recent call last)",
      "\u001b[0;32m<ipython-input-114-cfd50a08758f>\u001b[0m in \u001b[0;36m<module>\u001b[0;34m\u001b[0m\n\u001b[1;32m      1\u001b[0m \u001b[0mx_opt\u001b[0m \u001b[0;34m=\u001b[0m \u001b[0mX\u001b[0m\u001b[0;34m[\u001b[0m\u001b[0;36m0\u001b[0m\u001b[0;34m]\u001b[0m\u001b[0;34m\u001b[0m\u001b[0;34m\u001b[0m\u001b[0m\n\u001b[0;32m----> 2\u001b[0;31m \u001b[0madjusted_r_squared\u001b[0m\u001b[0;34m(\u001b[0m\u001b[0mx_opt\u001b[0m\u001b[0;34m,\u001b[0m\u001b[0my\u001b[0m\u001b[0;34m)\u001b[0m\u001b[0;34m\u001b[0m\u001b[0;34m\u001b[0m\u001b[0m\n\u001b[0m",
      "\u001b[0;32m<ipython-input-110-b3b2bce08e87>\u001b[0m in \u001b[0;36madjusted_r_squared\u001b[0;34m(X, y)\u001b[0m\n\u001b[1;32m      1\u001b[0m \u001b[0;32mdef\u001b[0m \u001b[0madjusted_r_squared\u001b[0m\u001b[0;34m(\u001b[0m\u001b[0mX\u001b[0m\u001b[0;34m,\u001b[0m\u001b[0my\u001b[0m\u001b[0;34m)\u001b[0m\u001b[0;34m:\u001b[0m\u001b[0;34m\u001b[0m\u001b[0;34m\u001b[0m\u001b[0m\n\u001b[1;32m      2\u001b[0m     \u001b[0mn\u001b[0m \u001b[0;34m=\u001b[0m \u001b[0mlen\u001b[0m\u001b[0;34m(\u001b[0m\u001b[0my\u001b[0m\u001b[0;34m)\u001b[0m\u001b[0;34m\u001b[0m\u001b[0;34m\u001b[0m\u001b[0m\n\u001b[0;32m----> 3\u001b[0;31m     \u001b[0md\u001b[0m \u001b[0;34m=\u001b[0m \u001b[0mX\u001b[0m\u001b[0;34m.\u001b[0m\u001b[0mshape\u001b[0m\u001b[0;34m[\u001b[0m\u001b[0;36m1\u001b[0m\u001b[0;34m]\u001b[0m\u001b[0;34m\u001b[0m\u001b[0;34m\u001b[0m\u001b[0m\n\u001b[0m\u001b[1;32m      4\u001b[0m     \u001b[0madj_r\u001b[0m \u001b[0;34m=\u001b[0m \u001b[0;36m1\u001b[0m\u001b[0;34m-\u001b[0m\u001b[0;34m(\u001b[0m\u001b[0;36m1\u001b[0m\u001b[0;34m-\u001b[0m\u001b[0msimlin_r2\u001b[0m\u001b[0;34m(\u001b[0m\u001b[0my\u001b[0m\u001b[0;34m,\u001b[0m\u001b[0my_hat\u001b[0m\u001b[0;34m)\u001b[0m\u001b[0;34m)\u001b[0m\u001b[0;34m*\u001b[0m\u001b[0;34m(\u001b[0m\u001b[0;34m(\u001b[0m\u001b[0mn\u001b[0m\u001b[0;34m-\u001b[0m\u001b[0;36m1\u001b[0m\u001b[0;34m)\u001b[0m\u001b[0;34m/\u001b[0m\u001b[0;34m(\u001b[0m\u001b[0mn\u001b[0m\u001b[0;34m-\u001b[0m\u001b[0md\u001b[0m\u001b[0;34m-\u001b[0m\u001b[0;36m1\u001b[0m\u001b[0;34m)\u001b[0m\u001b[0;34m)\u001b[0m\u001b[0;34m\u001b[0m\u001b[0;34m\u001b[0m\u001b[0m\n\u001b[1;32m      5\u001b[0m \u001b[0;34m\u001b[0m\u001b[0m\n",
      "\u001b[0;31mIndexError\u001b[0m: tuple index out of range"
     ]
    }
   ],
   "source": [
    "x_opt = X[0] \n",
    "adjusted_r_squared(x_opt,y)"
   ]
  },
  {
   "cell_type": "code",
   "execution_count": 105,
   "metadata": {},
   "outputs": [],
   "source": [
    "rand_col = np.random.randint(-1000,1000, len(age_list))\n",
    "X = np.column_stack((X, rand_col))"
   ]
  },
  {
   "cell_type": "code",
   "execution_count": 106,
   "metadata": {},
   "outputs": [
    {
     "data": {
      "text/plain": [
       "array([[ 1.00e+00,  1.90e+01,  1.40e+01,  8.00e-01, -8.80e+01],\n",
       "       [ 1.00e+00,  2.30e+01,  2.40e+01,  8.00e-01,  5.13e+02],\n",
       "       [ 1.00e+00,  2.50e+01,  2.60e+01,  8.00e-01,  2.60e+01],\n",
       "       [ 1.00e+00,  2.20e+01,  2.40e+01,  1.00e+00, -8.00e+01],\n",
       "       [ 1.00e+00,  2.50e+01,  2.90e+01,  1.40e+00,  5.02e+02],\n",
       "       [ 1.00e+00,  3.60e+01,  8.60e+01,  1.60e+00, -2.40e+01],\n",
       "       [ 1.00e+00,  2.80e+01,  5.20e+01,  8.00e-01, -6.97e+02],\n",
       "       [ 1.00e+00,  2.10e+01,  2.00e+01,  1.00e+00, -6.61e+02],\n",
       "       [ 1.00e+00,  2.20e+01,  2.80e+01,  8.00e-01,  3.13e+02],\n",
       "       [ 1.00e+00,  2.40e+01,  2.70e+01,  1.00e+00, -6.89e+02],\n",
       "       [ 1.00e+00,  1.80e+01,  8.00e+00,  6.00e-01,  1.80e+01],\n",
       "       [ 1.00e+00,  3.00e+01,  5.80e+01,  1.20e+00, -5.10e+02],\n",
       "       [ 1.00e+00,  2.40e+01,  3.00e+01,  8.00e-01,  3.32e+02],\n",
       "       [ 1.00e+00,  2.40e+01,  2.80e+01,  8.00e-01,  8.02e+02],\n",
       "       [ 1.00e+00,  3.20e+01,  6.50e+01,  1.60e+00, -2.02e+02],\n",
       "       [ 1.00e+00,  2.80e+01,  4.70e+01,  8.00e-01,  8.70e+02],\n",
       "       [ 1.00e+00,  2.60e+01,  4.10e+01,  8.00e-01,  2.20e+01],\n",
       "       [ 1.00e+00,  1.80e+01,  1.40e+01,  6.00e-01,  5.80e+01],\n",
       "       [ 1.00e+00,  3.20e+01,  7.10e+01,  2.20e+00, -4.80e+02],\n",
       "       [ 1.00e+00,  2.70e+01,  4.50e+01,  2.00e+00,  2.00e+00],\n",
       "       [ 1.00e+00,  2.90e+01,  5.30e+01,  2.20e+00, -5.06e+02],\n",
       "       [ 1.00e+00,  1.80e+01,  1.10e+01,  8.00e-01,  5.21e+02],\n",
       "       [ 1.00e+00,  2.00e+01,  2.30e+01,  8.00e-01,  6.29e+02],\n",
       "       [ 1.00e+00,  2.00e+01,  1.90e+01,  6.00e-01, -2.07e+02],\n",
       "       [ 1.00e+00,  2.00e+01,  1.50e+01,  6.00e-01,  9.13e+02],\n",
       "       [ 1.00e+00,  1.90e+01,  1.80e+01,  4.00e-01,  2.69e+02],\n",
       "       [ 1.00e+00,  2.40e+01,  5.50e+01,  1.20e+00,  4.69e+02],\n",
       "       [ 1.00e+00,  2.40e+01,  5.90e+01,  1.00e+00, -7.52e+02],\n",
       "       [ 1.00e+00,  2.00e+01,  1.70e+01,  6.00e-01,  4.52e+02],\n",
       "       [ 1.00e+00,  2.10e+01,  2.80e+01,  8.00e-01, -5.25e+02],\n",
       "       [ 1.00e+00,  1.80e+01,  1.50e+01,  6.00e-01, -1.76e+02],\n",
       "       [ 1.00e+00,  2.30e+01,  4.40e+01,  1.40e+00, -9.15e+02],\n",
       "       [ 1.00e+00,  1.90e+01,  1.10e+01,  6.00e-01,  9.44e+02],\n",
       "       [ 1.00e+00,  2.10e+01,  1.30e+01,  6.00e-01,  2.18e+02],\n",
       "       [ 1.00e+00,  2.20e+01,  2.40e+01,  6.00e-01,  1.24e+02],\n",
       "       [ 1.00e+00,  2.50e+01,  4.20e+01,  1.20e+00, -6.90e+02],\n",
       "       [ 1.00e+00,  2.60e+01,  6.40e+01,  1.20e+00,  5.49e+02],\n",
       "       [ 1.00e+00,  1.90e+01,  9.00e+00,  6.00e-01, -5.79e+02],\n",
       "       [ 1.00e+00,  1.80e+01,  1.40e+01,  6.00e-01,  7.08e+02]])"
      ]
     },
     "execution_count": 106,
     "metadata": {},
     "output_type": "execute_result"
    }
   ],
   "source": [
    "X"
   ]
  },
  {
   "cell_type": "code",
   "execution_count": 43,
   "metadata": {},
   "outputs": [
    {
     "data": {
      "text/plain": [
       "10"
      ]
     },
     "execution_count": 43,
     "metadata": {},
     "output_type": "execute_result"
    }
   ],
   "source": []
  },
  {
   "cell_type": "code",
   "execution_count": null,
   "metadata": {},
   "outputs": [],
   "source": []
  }
 ],
 "metadata": {
  "kernelspec": {
   "display_name": "Python 3",
   "language": "python",
   "name": "python3"
  },
  "language_info": {
   "codemirror_mode": {
    "name": "ipython",
    "version": 3
   },
   "file_extension": ".py",
   "mimetype": "text/x-python",
   "name": "python",
   "nbconvert_exporter": "python",
   "pygments_lexer": "ipython3",
   "version": "3.7.6"
  }
 },
 "nbformat": 4,
 "nbformat_minor": 4
}
